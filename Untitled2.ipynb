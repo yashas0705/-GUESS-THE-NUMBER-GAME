{
  "nbformat": 4,
  "nbformat_minor": 0,
  "metadata": {
    "colab": {
      "provenance": []
    },
    "kernelspec": {
      "name": "python3",
      "display_name": "Python 3"
    },
    "language_info": {
      "name": "python"
    }
  },
  "cells": [
    {
      "cell_type": "code",
      "execution_count": 1,
      "metadata": {
        "colab": {
          "base_uri": "https://localhost:8080/"
        },
        "id": "2jyrnUEdc6S6",
        "outputId": "a51e6841-d46c-4e52-daf1-feb4757a1d1d"
      },
      "outputs": [
        {
          "output_type": "stream",
          "name": "stdout",
          "text": [
            "Hey there!I'm your friendly number-guessing buddy.\n",
            "I'm thinking of a secret number between 1 and 100...\n",
            "Can you guess it? Let's find out!\n",
            "Your guess: 67\n",
            "Hmm... too low. Try going higher!\n",
            "Your guess: 89\n",
            "Hmm... too low. Try going higher!\n",
            "Your guess: 90\n",
            "Hmm... too low. Try going higher!\n",
            "Your guess: 99\n",
            "Whoa there! That's too high. Try going lower!\n",
            "Your guess: 98\n",
            "Whoa there! That's too high. Try going lower!\n",
            "Your guess: 96\n",
            "Whoa there! That's too high. Try going lower!\n",
            "Your guess: 95\n",
            "Woohoo! You nailed it in 7 attempts!\n",
            "\n",
            "Do you want to play another round? (yes/no): no\n",
            "\n",
            "Alright, thanks for playing! Have a great day!\n"
          ]
        }
      ],
      "source": [
        "import random\n",
        "import time\n",
        "\n",
        "def guess_the_number():\n",
        "    print(\"Hey there!I'm your friendly number-guessing buddy.\")\n",
        "    time.sleep(1)\n",
        "    print(\"I'm thinking of a secret number between 1 and 100...\")\n",
        "    time.sleep(1)\n",
        "    print(\"Can you guess it? Let's find out!\")\n",
        "\n",
        "    secret_number = random.randint(1, 100)\n",
        "    attempts = 0\n",
        "\n",
        "    while True:\n",
        "        try:\n",
        "            guess = int(input(\"Your guess: \"))\n",
        "            attempts += 1\n",
        "\n",
        "            if guess < secret_number:\n",
        "                print(\"Hmm... too low. Try going higher!\")\n",
        "            elif guess > secret_number:\n",
        "                print(\"Whoa there! That's too high. Try going lower!\")\n",
        "            else:\n",
        "                print(f\"Woohoo! You nailed it in {attempts} attempts!\")\n",
        "                break\n",
        "        except ValueError:\n",
        "            print(\"Oops! That's not a number. Try again...\\n\")\n",
        "\n",
        "    # Ask if the player wants to play again\n",
        "    play_again = input(\"\\nDo you want to play another round? (yes/no): \").strip().lower()\n",
        "    if play_again in [\"yes\", \"y\"]:\n",
        "        print(\"\\nAwesome! Let's go again!\\n\")\n",
        "        guess_the_number()\n",
        "    else:\n",
        "        print(\"\\nAlright, thanks for playing! Have a great day!\")\n",
        "\n",
        "# Start the game\n",
        "guess_the_number()\n"
      ]
    }
  ]
}